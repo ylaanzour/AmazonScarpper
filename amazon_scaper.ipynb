{
 "cells": [
  {
   "cell_type": "code",
   "execution_count": 10,
   "metadata": {},
   "outputs": [],
   "source": [
    "from selenium import webdriver\n",
    "import time \n",
    "from bs4 import BeautifulSoup\n",
    "from webdriver_manager.chrome import ChromeDriverManager\n",
    "from selenium.webdriver.common.by import By\n",
    "from selenium.common.exceptions import NoSuchElementException\n",
    "from selenium.webdriver.chrome.service import Service as ChromeService\n",
    "import pandas as pd"
   ]
  },
  {
   "cell_type": "code",
   "execution_count": 11,
   "metadata": {},
   "outputs": [],
   "source": [
    "driver = webdriver.Chrome(service=ChromeService(ChromeDriverManager().install()))"
   ]
  },
  {
   "cell_type": "code",
   "execution_count": 12,
   "metadata": {},
   "outputs": [],
   "source": [
    "def get_url(key):\n",
    "    url = f'https://www.amazon.com/s?k={key}&crid=Y3FH4UKLAR0F&sprefix=kitchen+appl%2Caps%2C305&ref=nb_sb_ss_ts-doa-p_2_12'\n",
    "    return url\n",
    "def check_exists_by_xpath(driver, xpath):\n",
    "    try:\n",
    "        driver.find_element(By.XPATH, xpath)\n",
    "    except NoSuchElementException:\n",
    "        return False\n",
    "    return True\n"
   ]
  },
  {
   "cell_type": "code",
   "execution_count": 13,
   "metadata": {},
   "outputs": [],
   "source": [
    "driver.get(get_url(\"kitchen wares\"))\n",
    "link_list = []\n",
    "\n",
    "n=0\n",
    "while n < 2:\n",
    "    html = driver.page_source\n",
    "    soup = BeautifulSoup(html, 'html.parser')\n",
    "    links = soup.find_all('a',{'class':'a-link-normal s-underline-text s-underline-link-text s-link-style a-text-normal'})\n",
    "\n",
    "    for link in links:\n",
    "        if '/dp/' in link['href'] and 'https' not in link['href']:\n",
    "            link_list.append(link['href'])\n",
    "        else:\n",
    "            pass\n",
    "    try:\n",
    "        element = driver.find_element(By.XPATH, \"//a[contains(text(), 'Next')]\")\n",
    "        driver.execute_script('arguments[0].scrollIntoView();', element)\n",
    "        driver.execute_script('window.scrollBy(0, -200);')\n",
    "        element.click()\n",
    "        time.sleep(5)\n",
    "    except:\n",
    "        print('No More Pages')\n",
    "        \n",
    "    n+=1\n",
    "    \n",
    "    \n",
    "        \n",
    "\n"
   ]
  },
  {
   "cell_type": "code",
   "execution_count": 14,
   "metadata": {},
   "outputs": [
    {
     "name": "stdout",
     "output_type": "stream",
     "text": [
      "Done\n",
      "Done\n",
      "Done\n"
     ]
    }
   ],
   "source": [
    "prod_info = []\n",
    "for lin in link_list[:3]:\n",
    "    prod_dic = {}\n",
    "    prod_dic['ASIN'] = lin.split('/')[3]\n",
    "    lin = 'https://www.amazon.com'+lin\n",
    "    prod_dic['link'] = lin\n",
    "    driver.get(lin)\n",
    "    html = driver.page_source\n",
    "    soup = BeautifulSoup(html, 'html.parser')\n",
    "    try:\n",
    "        prod_dic['title'] = soup.find('span',{'id':'productTitle'}).text.strip()\n",
    "        prod_dic['about'] = soup.find('ul',{'class':'a-unordered-list a-vertical a-spacing-mini'}).text\n",
    "    except:\n",
    "        continue\n",
    "    prod_info.append(prod_dic)\n",
    "    print(\"Done\")\n",
    "    #break"
   ]
  },
  {
   "cell_type": "code",
   "execution_count": 15,
   "metadata": {},
   "outputs": [],
   "source": [
    "df = pd.DataFrame(prod_info)"
   ]
  },
  {
   "cell_type": "code",
   "execution_count": 16,
   "metadata": {},
   "outputs": [
    {
     "data": {
      "text/html": [
       "<div>\n",
       "<style scoped>\n",
       "    .dataframe tbody tr th:only-of-type {\n",
       "        vertical-align: middle;\n",
       "    }\n",
       "\n",
       "    .dataframe tbody tr th {\n",
       "        vertical-align: top;\n",
       "    }\n",
       "\n",
       "    .dataframe thead th {\n",
       "        text-align: right;\n",
       "    }\n",
       "</style>\n",
       "<table border=\"1\" class=\"dataframe\">\n",
       "  <thead>\n",
       "    <tr style=\"text-align: right;\">\n",
       "      <th></th>\n",
       "      <th>ASIN</th>\n",
       "      <th>link</th>\n",
       "      <th>title</th>\n",
       "      <th>about</th>\n",
       "    </tr>\n",
       "  </thead>\n",
       "  <tbody>\n",
       "    <tr>\n",
       "      <th>0</th>\n",
       "      <td>B0C6QKL8SY</td>\n",
       "      <td>https://www.amazon.com/SODAY-Cookware-Inductio...</td>\n",
       "      <td>SODAY Pots and Pans Set Non Stick, 12 Pcs Kitc...</td>\n",
       "      <td>Superior Granite Quality: Feature premium gr...</td>\n",
       "    </tr>\n",
       "    <tr>\n",
       "      <th>1</th>\n",
       "      <td>B0C5M9W2G5</td>\n",
       "      <td>https://www.amazon.com/Skroam-Containers-Airti...</td>\n",
       "      <td>Skroam 36 Pack Food Storage Containers with li...</td>\n",
       "      <td>All Possible Sizes - This 36pcs plastic airt...</td>\n",
       "    </tr>\n",
       "    <tr>\n",
       "      <th>2</th>\n",
       "      <td>B07ZVC6DMM</td>\n",
       "      <td>https://www.amazon.com/40-Piece-Silverware-Sta...</td>\n",
       "      <td>HIWARE 48-Piece Silverware Set with Steak Kniv...</td>\n",
       "      <td>48 PCS SILVERWARE SET FOR 8: Includes 8 dinn...</td>\n",
       "    </tr>\n",
       "  </tbody>\n",
       "</table>\n",
       "</div>"
      ],
      "text/plain": [
       "         ASIN                                               link  \\\n",
       "0  B0C6QKL8SY  https://www.amazon.com/SODAY-Cookware-Inductio...   \n",
       "1  B0C5M9W2G5  https://www.amazon.com/Skroam-Containers-Airti...   \n",
       "2  B07ZVC6DMM  https://www.amazon.com/40-Piece-Silverware-Sta...   \n",
       "\n",
       "                                               title  \\\n",
       "0  SODAY Pots and Pans Set Non Stick, 12 Pcs Kitc...   \n",
       "1  Skroam 36 Pack Food Storage Containers with li...   \n",
       "2  HIWARE 48-Piece Silverware Set with Steak Kniv...   \n",
       "\n",
       "                                               about  \n",
       "0    Superior Granite Quality: Feature premium gr...  \n",
       "1    All Possible Sizes - This 36pcs plastic airt...  \n",
       "2    48 PCS SILVERWARE SET FOR 8: Includes 8 dinn...  "
      ]
     },
     "execution_count": 16,
     "metadata": {},
     "output_type": "execute_result"
    }
   ],
   "source": [
    "df"
   ]
  },
  {
   "cell_type": "code",
   "execution_count": 17,
   "metadata": {},
   "outputs": [],
   "source": [
    "df.to_csv('testproducts_info2.csv',index=False)"
   ]
  },
  {
   "cell_type": "code",
   "execution_count": null,
   "metadata": {},
   "outputs": [],
   "source": []
  }
 ],
 "metadata": {
  "kernelspec": {
   "display_name": "base",
   "language": "python",
   "name": "python3"
  },
  "language_info": {
   "codemirror_mode": {
    "name": "ipython",
    "version": 3
   },
   "file_extension": ".py",
   "mimetype": "text/x-python",
   "name": "python",
   "nbconvert_exporter": "python",
   "pygments_lexer": "ipython3",
   "version": "3.11.4"
  }
 },
 "nbformat": 4,
 "nbformat_minor": 2
}
